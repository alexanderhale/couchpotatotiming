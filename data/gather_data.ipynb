{
 "cells": [
  {
   "cell_type": "markdown",
   "metadata": {},
   "source": [
    "# Gather Historical ETF Data "
   ]
  },
  {
   "cell_type": "code",
   "execution_count": 127,
   "metadata": {},
   "outputs": [],
   "source": [
    "import os\n",
    "from datetime import datetime, timedelta\n",
    "\n",
    "import pandas as pd\n",
    "import matplotlib.pyplot as plt\n",
    "import seaborn as sns\n",
    "\n",
    "import yfinance as yf\n",
    "from yahoofinancials import YahooFinancials"
   ]
  },
  {
   "cell_type": "markdown",
   "metadata": {},
   "source": [
    "## Data Download"
   ]
  },
  {
   "cell_type": "code",
   "execution_count": 93,
   "metadata": {},
   "outputs": [],
   "source": [
    "ticker_data_filepath = 'ticker_data_1m.csv'\n",
    "\n",
    "tickers = 'XBB.TO XINC.TO XCNS.TO XBAL.TO XGRO.TO XEQT.TO VAB.TO VCIP.TO VCNS.TO VBAL.TO VGRO.TO VEQT.TO'\n",
    "result_dfs = []\n",
    "\n",
    "today = datetime.now()\n",
    "increment_size = timedelta(days=6)   # maximum number of days allowed per query for minute-by-minute data"
   ]
  },
  {
   "cell_type": "code",
   "execution_count": 94,
   "metadata": {},
   "outputs": [],
   "source": [
    "# minute-by-minute data is only available within the last 30 days\n",
    "start_date = today - timedelta(days=29)\n",
    "\n",
    "# initialize ticker data storage\n",
    "ticker_df = pd.DataFrame()\n",
    "\n",
    "# iterate from inception date to today. yfinance takes care of end_date conditions if we go past current day.\n",
    "while start_date < today:\n",
    "    end_date = start_date + increment_size\n",
    "    ticker_df = ticker_df.append(yf.download(tickers=tickers, \n",
    "                                             start=start_date.strftime('%Y-%m-%d'),\n",
    "                                             end=end_date.strftime('%Y-%m-%d'),\n",
    "                                             interval='1m',\n",
    "                                             progress=False))\n",
    "    start_date = end_date + timedelta(days=1)"
   ]
  },
  {
   "cell_type": "code",
   "execution_count": 95,
   "metadata": {},
   "outputs": [],
   "source": [
    "# all columns are the same with a 1 minute time interval - only need to keep one\n",
    "ticker_df = ticker_df['Adj Close']\n",
    "ticker_df = ticker_df.rename(columns={'Adj Close': 'Price'})\n",
    "\n",
    "# persist data\n",
    "ticker_df.to_csv(ticker_data_filepath, mode='a')"
   ]
  },
  {
   "cell_type": "code",
   "execution_count": 118,
   "metadata": {},
   "outputs": [],
   "source": [
    "# load all gathered data for analysis\n",
    "full_ticker_df = pd.read_csv(ticker_data_filepath)\n",
    "\n",
    "# drop duplicates from the same minute\n",
    "full_ticker_df.drop_duplicates(subset='Datetime', inplace=True)"
   ]
  },
  {
   "cell_type": "code",
   "execution_count": 119,
   "metadata": {},
   "outputs": [],
   "source": [
    "# extract date information from index for easier analysis\n",
    "def extract_time(string_timestamp):\n",
    "    if \":\" == string_timestamp[-3:-2]:\n",
    "        string_timestamp = string_timestamp[:-3] + string_timestamp[-2:]\n",
    "    timestamp = datetime.strptime(string_timestamp, \"%Y-%m-%d %H:%M:%S%z\")\n",
    "    return pd.Series((timestamp, timestamp.strftime('%H%M'), timestamp.strftime('%w')))\n",
    "\n",
    "full_ticker_df[['Datetime', 'time_of_day', 'day_of_week']] = full_ticker_df[\"Datetime\"].apply(lambda timestamp: extract_time(timestamp))"
   ]
  },
  {
   "cell_type": "markdown",
   "metadata": {},
   "source": [
    "## Find Peaks and Troughs of Daily Prices\n",
    "TODO"
   ]
  },
  {
   "cell_type": "markdown",
   "metadata": {},
   "source": [
    "## Find Peaks and Troughs of Weekly Prices\n",
    "TODO"
   ]
  },
  {
   "cell_type": "markdown",
   "metadata": {},
   "source": [
    "### Useful Tidbits"
   ]
  },
  {
   "cell_type": "code",
   "execution_count": null,
   "metadata": {},
   "outputs": [],
   "source": [
    "# fetch inception date of ticker\n",
    "# inception_date  = yf.download(tickers=ticker, period='max').index[0]"
   ]
  }
 ],
 "metadata": {
  "kernelspec": {
   "display_name": "couchpotatotiming",
   "language": "python",
   "name": "couchpotatotiming"
  },
  "language_info": {
   "codemirror_mode": {
    "name": "ipython",
    "version": 3
   },
   "file_extension": ".py",
   "mimetype": "text/x-python",
   "name": "python",
   "nbconvert_exporter": "python",
   "pygments_lexer": "ipython3",
   "version": "3.8.0"
  }
 },
 "nbformat": 4,
 "nbformat_minor": 4
}
