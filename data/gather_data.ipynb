{
 "cells": [
  {
   "cell_type": "markdown",
   "metadata": {},
   "source": [
    "# Gather Historical ETF Data "
   ]
  },
  {
   "cell_type": "code",
   "execution_count": 1,
   "metadata": {},
   "outputs": [],
   "source": [
    "import os\n",
    "from copy import deepcopy\n",
    "from datetime import datetime, timedelta\n",
    "\n",
    "import numpy as np\n",
    "import pandas as pd\n",
    "import matplotlib.pyplot as plt\n",
    "import seaborn as sns\n",
    "\n",
    "import yfinance as yf\n",
    "from yahoofinancials import YahooFinancials"
   ]
  },
  {
   "cell_type": "markdown",
   "metadata": {},
   "source": [
    "## Data Download"
   ]
  },
  {
   "cell_type": "code",
   "execution_count": 2,
   "metadata": {},
   "outputs": [],
   "source": [
    "granularity_interval = '15m'\n",
    "ticker_data_filepath = f'ticker_data_{granularity_interval}.csv'\n",
    "\n",
    "tickers = 'XBB.TO XINC.TO XCNS.TO XBAL.TO XGRO.TO XEQT.TO VAB.TO VCIP.TO VCNS.TO VBAL.TO VGRO.TO VEQT.TO'\n",
    "tickers_list = tickers.split()\n",
    "result_dfs = []\n",
    "today = datetime.now()\n",
    "\n",
    "# increment size and start date are limited by Yahoo Finance according to granularity_interval\n",
    "query_limits = {\n",
    "    '1m': {\n",
    "        'start_date': 30,\n",
    "        'increment_size': 7\n",
    "    },\n",
    "    '2m': {\n",
    "        'start_date': 60,\n",
    "        'increment_size': 60\n",
    "    },\n",
    "    '5m': {\n",
    "        'start_date': 60,\n",
    "        'increment_size': 60\n",
    "    },\n",
    "    '15m': {\n",
    "        'start_date': 60,\n",
    "        'increment_size': 60\n",
    "    },\n",
    "    '30m': {\n",
    "        'start_date': 60,\n",
    "        'increment_size': 60\n",
    "    },\n",
    "    '60m': {\n",
    "        'start_date': 730,\n",
    "        'increment_size': 730\n",
    "    }\n",
    "}\n",
    "start_date = query_limits[granularity_interval]['start_date']\n",
    "increment_size = query_limits[granularity_interval]['increment_size']"
   ]
  },
  {
   "cell_type": "code",
   "execution_count": 3,
   "metadata": {
    "scrolled": true
   },
   "outputs": [],
   "source": [
    "# minute-by-minute data is only available within the last 30 days\n",
    "start_date = today - timedelta(days=start_date - 1)\n",
    "\n",
    "# initialize ticker data storage\n",
    "ticker_df = pd.DataFrame()\n",
    "\n",
    "# iterate from inception date to today. yfinance takes care of end_date conditions if we go past current day.\n",
    "while start_date < today:\n",
    "    end_date = start_date + timedelta(days=increment_size - 1)\n",
    "    ticker_df = ticker_df.append(yf.download(tickers=tickers, \n",
    "                                             start=start_date.strftime('%Y-%m-%d'),\n",
    "                                             end=end_date.strftime('%Y-%m-%d'),\n",
    "                                             interval=granularity_interval,\n",
    "                                             progress=False))\n",
    "    start_date = end_date + timedelta(days=1)"
   ]
  },
  {
   "cell_type": "code",
   "execution_count": 4,
   "metadata": {},
   "outputs": [],
   "source": [
    "# if granuality_interval is short enough (~15 minutes or less), can assume one column represents both the high and low\n",
    "ticker_df = ticker_df['Adj Close']\n",
    "ticker_df = ticker_df.rename(columns={'Adj Close': 'Price'})\n",
    "\n",
    "# round to 2 decimal places\n",
    "ticker_df = ticker_df.round(2)\n",
    "\n",
    "# name index column\n",
    "ticker_df.index.name = 'Datetime'\n",
    "\n",
    "# persist data\n",
    "save_headers = not os.path.exists(ticker_data_filepath)\n",
    "ticker_df.to_csv(ticker_data_filepath, mode='a', header=save_headers)"
   ]
  },
  {
   "cell_type": "code",
   "execution_count": 5,
   "metadata": {},
   "outputs": [],
   "source": [
    "# load all gathered data for analysis\n",
    "full_ticker_df = pd.read_csv(ticker_data_filepath)\n",
    "\n",
    "# drop duplicates from the same minute\n",
    "full_ticker_df.drop_duplicates(subset='Datetime', inplace=True)"
   ]
  },
  {
   "cell_type": "code",
   "execution_count": 6,
   "metadata": {},
   "outputs": [],
   "source": [
    "# extract date information from index for easier analysis\n",
    "def extract_time(string_timestamp):\n",
    "    if \":\" == string_timestamp[-3:-2]:\n",
    "        string_timestamp = string_timestamp[:-3] + string_timestamp[-2:]\n",
    "    timestamp = datetime.strptime(string_timestamp, \"%Y-%m-%d %H:%M:%S%z\")\n",
    "    return pd.Series((timestamp, timestamp.strftime('%Y'), timestamp.strftime(\"%Y-%m-%d\"), timestamp.strftime('%U'), timestamp.strftime('%H%M'), timestamp.strftime('%w')))\n",
    "\n",
    "full_ticker_df[['Datetime', 'unique_year', 'unique_day', 'week_of_year', 'time_of_day', 'day_of_week']] = full_ticker_df[\"Datetime\"].apply(lambda timestamp: extract_time(timestamp))"
   ]
  },
  {
   "cell_type": "markdown",
   "metadata": {},
   "source": [
    "## Find Peaks of Daily Prices"
   ]
  },
  {
   "cell_type": "code",
   "execution_count": 7,
   "metadata": {},
   "outputs": [],
   "source": [
    "peak_daily_values = full_ticker_df.groupby(['unique_day']).max()\n",
    "\n",
    "peak_daily_values_df = full_ticker_df.copy()\n",
    "peak_daily_values_df[tickers_list] = np.nan\n",
    "\n",
    "for unique_day, row in peak_daily_values.iterrows():\n",
    "    for ticker in tickers_list:\n",
    "        # find the locations of the max values in the original dataframe\n",
    "        peak_indices = full_ticker_df[(full_ticker_df['unique_day'] == unique_day) & (full_ticker_df[ticker] == row[ticker])].index\n",
    "        \n",
    "        # place a value in the indices where peak values occurred\n",
    "        for peak_index in peak_indices:\n",
    "            peak_daily_values_df.at[peak_index, ticker] = 1 / len(peak_indices) if len(peak_indices) else np.nan"
   ]
  },
  {
   "cell_type": "code",
   "execution_count": 8,
   "metadata": {},
   "outputs": [],
   "source": [
    "peak_time_df = pd.DataFrame(index=peak_daily_values_df['time_of_day'].unique(), columns=tickers_list)\n",
    "\n",
    "for time in peak_time_df.index:\n",
    "    for ticker in tickers_list:\n",
    "        peak_time_df.at[time, ticker] = peak_daily_values_df[peak_daily_values_df['time_of_day'] == time][ticker].sum()"
   ]
  },
  {
   "cell_type": "code",
   "execution_count": 9,
   "metadata": {},
   "outputs": [
    {
     "data": {
      "text/plain": [
       "<AxesSubplot:>"
      ]
     },
     "execution_count": 9,
     "metadata": {},
     "output_type": "execute_result"
    },
    {
     "data": {
      "image/png": "[encoded data removed]",
      "text/plain": [
       "<Figure size 864x576 with 1 Axes>"
      ]
     },
     "metadata": {
      "needs_background": "light"
     },
     "output_type": "display_data"
    }
   ],
   "source": [
    "peak_time_df.plot.bar(figsize=(12, 8))"
   ]
  },
  {
   "cell_type": "markdown",
   "metadata": {},
   "source": [
    "# Find Troughs of Daily Prices"
   ]
  },
  {
   "cell_type": "code",
   "execution_count": 10,
   "metadata": {},
   "outputs": [],
   "source": [
    "trough_daily_values = full_ticker_df.groupby(['unique_day']).min()\n",
    "\n",
    "trough_daily_values_df = full_ticker_df.copy()\n",
    "trough_daily_values_df[tickers_list] = np.nan\n",
    "\n",
    "for unique_day, row in trough_daily_values.iterrows():\n",
    "    for ticker in tickers_list:\n",
    "        # find the locations of the max values in the original dataframe\n",
    "        trough_indices = full_ticker_df[(full_ticker_df['unique_day'] == unique_day) & (full_ticker_df[ticker] == row[ticker])].index\n",
    "        \n",
    "        # place a value in the indices where peak values occurred\n",
    "        for trough_index in trough_indices:\n",
    "            trough_daily_values_df.at[trough_index, ticker] = 1 / len(trough_indices) if len(trough_indices) else np.nan"
   ]
  },
  {
   "cell_type": "code",
   "execution_count": 11,
   "metadata": {},
   "outputs": [],
   "source": [
    "trough_time_df = pd.DataFrame(index=trough_daily_values_df['time_of_day'].unique(), columns=tickers_list)\n",
    "\n",
    "for time in trough_time_df.index:\n",
    "    for ticker in tickers_list:\n",
    "        trough_time_df.at[time, ticker] = trough_daily_values_df[trough_daily_values_df['time_of_day'] == time][ticker].sum()"
   ]
  },
  {
   "cell_type": "code",
   "execution_count": 12,
   "metadata": {},
   "outputs": [
    {
     "data": {
      "text/plain": [
       "<AxesSubplot:>"
      ]
     },
     "execution_count": 12,
     "metadata": {},
     "output_type": "execute_result"
    },
    {
     "data": {
      "image/png": "[encoded data removed]",
      "text/plain": [
       "<Figure size 864x576 with 1 Axes>"
      ]
     },
     "metadata": {
      "needs_background": "light"
     },
     "output_type": "display_data"
    }
   ],
   "source": [
    "trough_time_df.plot.bar(figsize=(12, 8))"
   ]
  },
  {
   "cell_type": "markdown",
   "metadata": {},
   "source": [
    "## Find Peaks and Troughs of Weekly Prices\n",
    "TODO"
   ]
  },
  {
   "cell_type": "markdown",
   "metadata": {},
   "source": [
    "### Useful Tidbits"
   ]
  },
  {
   "cell_type": "code",
   "execution_count": 13,
   "metadata": {},
   "outputs": [],
   "source": [
    "# fetch inception date of ticker\n",
    "# inception_date  = yf.download(tickers=ticker, period='max').index[0]"
   ]
  }
 ],
 "metadata": {
  "kernelspec": {
   "display_name": "couchpotatotiming",
   "language": "python",
   "name": "couchpotatotiming"
  },
  "language_info": {
   "codemirror_mode": {
    "name": "ipython",
    "version": 3
   },
   "file_extension": ".py",
   "mimetype": "text/x-python",
   "name": "python",
   "nbconvert_exporter": "python",
   "pygments_lexer": "ipython3",
   "version": "3.8.0"
  }
 },
 "nbformat": 4,
 "nbformat_minor": 4
}
